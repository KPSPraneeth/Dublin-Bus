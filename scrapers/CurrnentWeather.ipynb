{
 "cells": [
  {
   "cell_type": "markdown",
   "id": "764812ea",
   "metadata": {},
   "source": [
    "API: https://api.openweathermap.org/data/2.5/weather?q=dublin,353&appid=f800ca2d2726566b082da6aad95fe093"
   ]
  },
  {
   "cell_type": "code",
   "execution_count": 34,
   "id": "dee7c9f2",
   "metadata": {},
   "outputs": [],
   "source": [
    "import datetime\n",
    "import traceback\n",
    "import os\n",
    "import requests\n",
    "import time\n",
    "import json\n",
    "import pyodbc\n",
    "import textwrap\n",
    "import pytz"
   ]
  },
  {
   "cell_type": "markdown",
   "id": "356c23c3",
   "metadata": {},
   "source": [
    "Setting up pyodbc"
   ]
  },
  {
   "cell_type": "code",
   "execution_count": 35,
   "id": "dc227eb6",
   "metadata": {},
   "outputs": [],
   "source": [
    "# driver\n",
    "driver = '{ODBC Driver 17 for SQL Server}'"
   ]
  },
  {
   "cell_type": "code",
   "execution_count": 36,
   "id": "adcf7be5",
   "metadata": {},
   "outputs": [],
   "source": [
    "# server and db name\n",
    "server_name = 'dublinbus-team12-server'\n",
    "database_name = 'dublinbus-team12-db'"
   ]
  },
  {
   "cell_type": "code",
   "execution_count": 37,
   "id": "81c4ee49",
   "metadata": {},
   "outputs": [],
   "source": [
    "# server\n",
    "server = '{}.database.windows.net,1433'.format(server_name)"
   ]
  },
  {
   "cell_type": "code",
   "execution_count": 38,
   "id": "8be1f3c9",
   "metadata": {},
   "outputs": [],
   "source": [
    "# username and passord \n",
    "username = 'innovationgeeks'\n",
    "password = 'Laurawillsaveus445!'"
   ]
  },
  {
   "cell_type": "code",
   "execution_count": 39,
   "id": "49cbc97a",
   "metadata": {},
   "outputs": [],
   "source": [
    "# connection string \n",
    "connection_string = textwrap.dedent('''\n",
    "    Driver={driver};\n",
    "    Server={server};\n",
    "    Database={database};\n",
    "    Uid={username};\n",
    "    Pwd={password};\n",
    "    Encrypt=yes;\n",
    "    TrustServerCertificate=no;\n",
    "    Connection Timeout=30;\n",
    "'''.format(\n",
    "    driver = driver, \n",
    "    server = server, \n",
    "    database = database_name,\n",
    "    username = username,\n",
    "    password = password\n",
    "    )                               \n",
    ")"
   ]
  },
  {
   "cell_type": "code",
   "execution_count": 40,
   "id": "52de2916",
   "metadata": {},
   "outputs": [],
   "source": [
    "# pyodbc conncetion object\n",
    "conn: pyodbc.Connection = pyodbc.connect(connection_string)"
   ]
  },
  {
   "cell_type": "code",
   "execution_count": 41,
   "id": "cf5493a6",
   "metadata": {},
   "outputs": [],
   "source": [
    "# curser object for connection \n",
    "cursor: pyodbc.Cursor = conn.cursor()"
   ]
  },
  {
   "cell_type": "markdown",
   "id": "b9ca882b",
   "metadata": {},
   "source": [
    "Functions"
   ]
  },
  {
   "cell_type": "code",
   "execution_count": 42,
   "id": "b3d40009",
   "metadata": {},
   "outputs": [],
   "source": [
    "owm_current_weather = '''\n",
    "    CREATE TABLE weather_current(\n",
    "        lon FLOAT,\n",
    "        lat FLOAT,\n",
    "        weather_id INT,\n",
    "        weather_main VARCHAR(256),\n",
    "        weather_description VARCHAR(256),\n",
    "        weather_icon VARCHAR(256),\n",
    "        main_temp FLOAT,\n",
    "        main_feels_like FLOAT,\n",
    "        main_temp_min FLOAT,\n",
    "        main_temp_max FLOAT,\n",
    "        main_pressure INT,\n",
    "        main_humidity INT,\n",
    "        visability INT,\n",
    "        wind_speed FLOAT,\n",
    "        wind_deg INT,\n",
    "        wind_gust FLOAT,\n",
    "        clouds_all INT,\n",
    "        dt INT,\n",
    "        sys_type INT,\n",
    "        sys_id INT,\n",
    "        sys_sunrise INT,\n",
    "        sys_sunset INT\n",
    "    )'''"
   ]
  },
  {
   "cell_type": "code",
   "execution_count": 43,
   "id": "c220e3ac",
   "metadata": {},
   "outputs": [],
   "source": [
    "def create_table():\n",
    "    '''function to create table in azure db - only needs to be created once'''\n",
    "    try:\n",
    "        cursor.execute(owm_current_weather)\n",
    "        cursor.commit()\n",
    "    except Exception as e:\n",
    "        print(e)"
   ]
  },
  {
   "cell_type": "code",
   "execution_count": 44,
   "id": "ed82d416",
   "metadata": {},
   "outputs": [],
   "source": [
    "# create_table() # Only needs to be created once"
   ]
  },
  {
   "cell_type": "code",
   "execution_count": 45,
   "id": "d98c7e63",
   "metadata": {},
   "outputs": [],
   "source": [
    "def get_data(data):\n",
    "    ''' Function to return the data from the json object'''\n",
    "    \n",
    "    now = datetime.datetime.utcnow()\n",
    "    \n",
    "    return (\n",
    "        data.get(\"coord\").get(\"lon\"),\n",
    "        data.get(\"coord\").get(\"lat\"),\n",
    "        data.get(\"weather\")[0].get(\"id\"),\n",
    "        data.get(\"weather\")[0].get(\"main\"),\n",
    "        data.get(\"weather\")[0].get(\"description\"),\n",
    "        data.get(\"weather\")[0].get(\"icon\"),\n",
    "        data.get(\"main\").get(\"temp\"),\n",
    "        data.get(\"main\").get(\"feels_like\"),\n",
    "        data.get(\"main\").get(\"temp_min\"),\n",
    "        data.get(\"main\").get(\"temp_max\"),\n",
    "        data.get(\"main\").get(\"pressure\"),\n",
    "        data.get(\"main\").get(\"humidity\"),\n",
    "        data.get(\"visibility\"),\n",
    "        data.get(\"wind\").get(\"speed\"),\n",
    "        data.get(\"wind\").get(\"deg\"),\n",
    "        data.get(\"wind\").get(\"gust\"),\n",
    "        data.get(\"clouds\").get(\"all\"),\n",
    "        data.get(\"dt\"),\n",
    "        data.get(\"sys\").get(\"type\"),\n",
    "        data.get(\"sys\").get(\"id\"),\n",
    "        data.get(\"sys\").get(\"sunrise\"),\n",
    "        data.get(\"sys\").get(\"sunset\")\n",
    "    )"
   ]
  },
  {
   "cell_type": "code",
   "execution_count": 46,
   "id": "281eeddf",
   "metadata": {},
   "outputs": [],
   "source": [
    "def current_weather():\n",
    "    ''' function to get data form owm and import it into the database'''\n",
    "    r = requests.get(\"https://api.openweathermap.org/data/2.5/weather?q=dublin,353&appid=f800ca2d2726566b082da6aad95fe093\")\n",
    "    data = json.loads(r.text)\n",
    "    print(\"this is data\", data)\n",
    "    vals = get_data(data)\n",
    "    print(\"this is vals\", vals)\n",
    "    cursor.execute('''INSERT INTO dbo.weather_current (lon,lat,weather_id,weather_main,weather_description,weather_icon,main_temp,main_feels_like,main_temp_min,main_temp_max,main_pressure,main_humidity,visability,wind_speed,wind_deg,wind_gust,clouds_all,dt,sys_type,sys_id,sys_sunrise,sys_sunset) VALUES {}'''.format(vals))\n",
    "    cursor.commit()\n",
    "    return"
   ]
  },
  {
   "cell_type": "code",
   "execution_count": null,
   "id": "30eaa81d",
   "metadata": {},
   "outputs": [],
   "source": [
    "def main():\n",
    "    ''' Main function'''\n",
    "    while True: \n",
    "        try:\n",
    "            current_weather()\n",
    "            time.sleep(60 * 60)\n",
    "        except:\n",
    "            print(traceback.format_exc())\n",
    "            print(\"Error found an error when querying\")\n",
    "            time.sleep(60 * 60)\n",
    "            \n",
    "if __name__ == \"__main__\":\n",
    "    main()"
   ]
  },
  {
   "cell_type": "code",
   "execution_count": 33,
   "id": "de731220",
   "metadata": {},
   "outputs": [],
   "source": [
    "cursor.execute(\"DROP TABLE dbo.weather_current\")\n",
    "conn.commit()"
   ]
  },
  {
   "cell_type": "code",
   "execution_count": null,
   "id": "664ad9e2",
   "metadata": {},
   "outputs": [],
   "source": []
  }
 ],
 "metadata": {
  "kernelspec": {
   "display_name": "Python 3",
   "language": "python",
   "name": "python3"
  },
  "language_info": {
   "codemirror_mode": {
    "name": "ipython",
    "version": 3
   },
   "file_extension": ".py",
   "mimetype": "text/x-python",
   "name": "python",
   "nbconvert_exporter": "python",
   "pygments_lexer": "ipython3",
   "version": "3.8.8"
  }
 },
 "nbformat": 4,
 "nbformat_minor": 5
}
