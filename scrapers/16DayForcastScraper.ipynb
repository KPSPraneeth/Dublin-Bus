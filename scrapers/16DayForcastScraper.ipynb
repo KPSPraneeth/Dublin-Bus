{
 "cells": [
  {
   "cell_type": "markdown",
   "id": "1ef67d8c",
   "metadata": {},
   "source": [
    "16 Day Forecast "
   ]
  },
  {
   "cell_type": "markdown",
   "id": "3c96b5a2",
   "metadata": {},
   "source": [
    "Location: Dublin Castle \n",
    "- 53.342443\n",
    "- 6.266724"
   ]
  },
  {
   "cell_type": "markdown",
   "id": "03ec4691",
   "metadata": {},
   "source": [
    "API Key"
   ]
  },
  {
   "cell_type": "markdown",
   "id": "f0bd5a1d",
   "metadata": {},
   "source": [
    "https://api.openweathermap.org/data/2.5/onecall?lat=53.342443&lon=6.266724&exclude=minutely&appid=f800ca2d2726566b082da6aad95fe093"
   ]
  },
  {
   "cell_type": "code",
   "execution_count": 6,
   "id": "dee7c9f2",
   "metadata": {},
   "outputs": [],
   "source": [
    "import datetime\n",
    "import traceback\n",
    "import os\n",
    "import requests\n",
    "import time\n",
    "import json\n",
    "import pyodbc\n",
    "import textwrap\n",
    "import pytz"
   ]
  },
  {
   "cell_type": "code",
   "execution_count": 7,
   "id": "dc227eb6",
   "metadata": {},
   "outputs": [],
   "source": [
    "# driver\n",
    "driver = '{ODBC Driver 17 for SQL Server}'"
   ]
  },
  {
   "cell_type": "code",
   "execution_count": 8,
   "id": "adcf7be5",
   "metadata": {},
   "outputs": [],
   "source": [
    "# server and db name\n",
    "server_name = 'dublinbus-team12-server'\n",
    "database_name = 'dublinbus-team12-db'"
   ]
  },
  {
   "cell_type": "code",
   "execution_count": 9,
   "id": "81c4ee49",
   "metadata": {},
   "outputs": [],
   "source": [
    "# server\n",
    "server = '{}.database.windows.net,1433'.format(server_name)"
   ]
  },
  {
   "cell_type": "code",
   "execution_count": 10,
   "id": "8be1f3c9",
   "metadata": {},
   "outputs": [],
   "source": [
    "# username and passord \n",
    "username = 'innovationgeeks'\n",
    "password = 'Laurawillsaveus445!'"
   ]
  },
  {
   "cell_type": "code",
   "execution_count": 11,
   "id": "49cbc97a",
   "metadata": {},
   "outputs": [],
   "source": [
    "# connection string \n",
    "connection_string = textwrap.dedent('''\n",
    "    Driver={driver};\n",
    "    Server={server};\n",
    "    Database={database};\n",
    "    Uid={username};\n",
    "    Pwd={password};\n",
    "    Encrypt=yes;\n",
    "    TrustServerCertificate=no;\n",
    "    Connection Timeout=30;\n",
    "'''.format(\n",
    "    driver = driver, \n",
    "    server = server, \n",
    "    database = database_name,\n",
    "    username = username,\n",
    "    password = password\n",
    "    )                               \n",
    ")"
   ]
  },
  {
   "cell_type": "code",
   "execution_count": 12,
   "id": "52de2916",
   "metadata": {},
   "outputs": [],
   "source": [
    "# pyodbc conncetion object\n",
    "conn: pyodbc.Connection = pyodbc.connect(connection_string)"
   ]
  },
  {
   "cell_type": "code",
   "execution_count": 13,
   "id": "cf5493a6",
   "metadata": {},
   "outputs": [],
   "source": [
    "# curser object for connection \n",
    "cursor: pyodbc.Cursor = conn.cursor()"
   ]
  },
  {
   "cell_type": "code",
   "execution_count": 23,
   "id": "a74f7024",
   "metadata": {},
   "outputs": [],
   "source": [
    "# current waether \n",
    "SixteenDay = '''\n",
    "   CREATE TABLE weather_SixteenDayForcast(\n",
    "    lon FLOAT,\n",
    "    lat FLOAT,\n",
    "    time_queried DATETIME,\n",
    "    last_update DATETIME,\n",
    "    temp_day FLOAT,\n",
    "    temp_night FLOAT,\n",
    "    temp_eve FLOAT,\n",
    "    temp_morn FLOAT,\n",
    "    feels_like_day FLOAT,\n",
    "    feels_like_night FLOAT,\n",
    "    feels_like_eve FLOAT,\n",
    "    feels_like_morn FLOAT,\n",
    "    pressure FLOAT,\n",
    "    humidity FLOAT,\n",
    "    weather_main VARCHAR(256),\n",
    "    weather_description VARCHAR(256),\n",
    "    speed FLOAT,\n",
    "    deg FLOAT,\n",
    "    clouds FLOAT,\n",
    "    pop FlOAT,\n",
    "   )'''"
   ]
  },
  {
   "cell_type": "code",
   "execution_count": 24,
   "id": "f33edbf7",
   "metadata": {},
   "outputs": [],
   "source": [
    "def create_table():\n",
    "    '''function to create table\n",
    "        - Only needs to run once'''\n",
    "    try:\n",
    "        cursor.execute(SixteenDay)\n",
    "        cursor.commit()\n",
    "    except Exception as e: \n",
    "        print(e)"
   ]
  },
  {
   "cell_type": "code",
   "execution_count": 25,
   "id": "372f6e34",
   "metadata": {},
   "outputs": [],
   "source": [
    "# Call create table - Only once!\n",
    "#create_table()"
   ]
  },
  {
   "cell_type": "code",
   "execution_count": 27,
   "id": "fb34a1ae",
   "metadata": {},
   "outputs": [],
   "source": [
    "def get_data(data):\n",
    "    \"\"\"\n",
    "    this function takes in the data and station number as input and returns a tuple with that data\n",
    "    \"\"\"\n",
    "    now = datetime.datetime.utcnow()\n",
    "    \n",
    "    return (\n",
    "            data.get(\"coord\").get(\"lon\"),\n",
    "            data.get(\"coord\").get(\"lat\"),\n",
    "            now, \n",
    "            datetime.datetime.fromtimestamp(data.get(\"dt\")),  \n",
    "            data.get(\"temp\").get(\"day\"),   \n",
    "            data.get(\"temp\").get(\"night\"),   \n",
    "            data.get(\"temp\").get(\"eve\"),   \n",
    "            data.get(\"temp\").get(\"morn\"),   \n",
    "            data.get(\"feels_like\").get(\"day\"),    \n",
    "            data.get(\"feels_like\").get(\"night\"),    \n",
    "            data.get(\"feels_like\").get(\"eve\"),     \n",
    "            data.get(\"feels_like\").get(\"morn\"),    \n",
    "            data.get(\"pressure\"),    \n",
    "            data.get(\"humidity\"),   \n",
    "            data.get(\"weather\")[0].get(\"main\"),    \n",
    "            data.get(\"weather\")[0].get(\"description\"),   \n",
    "            data.get(\"speed\"),   \n",
    "            data.get(\"deg\"),   \n",
    "            data.get(\"clouds\"),   \n",
    "            data.get(\"pop\"))"
   ]
  },
  {
   "cell_type": "code",
   "execution_count": null,
   "id": "98d5a64d",
   "metadata": {},
   "outputs": [],
   "source": [
    "def SixteenDay():\n",
    "    ''' Funntion to get data from database and import it '''\n",
    "    r = requests.get(\"https://api.openweathermap.org/data/2.5/onecall?lat=53.342443&lon=6.266724&exclude=minutely&appid=f800ca2d2726566b082da6aad95fe093\")\n",
    "    data = json.loads(r.text)\n",
    "    days = data.get(\"list\")\n",
    "    print(data)\n",
    "    for day in days:\n",
    "        vals = get_data(day) \n",
    "        print(vals)\n",
    "        cursor.execute(\"INSERT INTO `weather_SixteenDayForcast` values(%s,%s,%s,%s,%s,%s,%s,%s,%s,%s,%s,%s,%s,%s,%s,%s,%s,%s,%s,%s)\", vals)\n",
    "        cursor.commit()\n",
    "    return"
   ]
  },
  {
   "cell_type": "code",
   "execution_count": null,
   "id": "4f547eff",
   "metadata": {},
   "outputs": [],
   "source": [
    "def main():\n",
    "    while True:\n",
    "        try:\n",
    "            SixteenDay()\n",
    "            time.sleep(60 * 60 * 24)\n",
    "        except:\n",
    "            print(traceback.format_exc())\n",
    "            print(\"Error found an error when querying\")\n",
    "            time.sleep(60 * 60 * 24)\n",
    "\n",
    "if __name__ == \"__main__\":\n",
    "    main()"
   ]
  },
  {
   "cell_type": "code",
   "execution_count": null,
   "id": "62e1d248",
   "metadata": {},
   "outputs": [],
   "source": []
  }
 ],
 "metadata": {
  "kernelspec": {
   "display_name": "Python 3",
   "language": "python",
   "name": "python3"
  },
  "language_info": {
   "codemirror_mode": {
    "name": "ipython",
    "version": 3
   },
   "file_extension": ".py",
   "mimetype": "text/x-python",
   "name": "python",
   "nbconvert_exporter": "python",
   "pygments_lexer": "ipython3",
   "version": "3.8.8"
  }
 },
 "nbformat": 4,
 "nbformat_minor": 5
}
